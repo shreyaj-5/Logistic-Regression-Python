{
  "nbformat": 4,
  "nbformat_minor": 0,
  "metadata": {
    "colab": {
      "name": "LogisticRegression_IdentifyDigits.ipynb",
      "provenance": [],
      "authorship_tag": "ABX9TyNi1CriS2uSGQSsBF9Mc+hG",
      "include_colab_link": true
    },
    "kernelspec": {
      "name": "python3",
      "display_name": "Python 3"
    }
  },
  "cells": [
    {
      "cell_type": "markdown",
      "metadata": {
        "id": "view-in-github",
        "colab_type": "text"
      },
      "source": [
        "<a href=\"https://colab.research.google.com/github/shreyaj-5/Logistic-Regression-Python/blob/master/LogisticRegression_IdentifyDigits.ipynb\" target=\"_parent\"><img src=\"https://colab.research.google.com/assets/colab-badge.svg\" alt=\"Open In Colab\"/></a>"
      ]
    },
    {
      "cell_type": "code",
      "metadata": {
        "id": "FiUTOgWhH-DU",
        "colab_type": "code",
        "colab": {}
      },
      "source": [
        "import numpy as np\n",
        "import matplotlib.pyplot as plt\n",
        "\n",
        "from sklearn import datasets,svm,metrics,linear_model\n",
        "from sklearn.model_selection import train_test_split"
      ],
      "execution_count": 1,
      "outputs": []
    },
    {
      "cell_type": "code",
      "metadata": {
        "id": "H7ZiwkotIl0u",
        "colab_type": "code",
        "colab": {}
      },
      "source": [
        "digits = datasets.load_digits()"
      ],
      "execution_count": null,
      "outputs": []
    },
    {
      "cell_type": "code",
      "metadata": {
        "id": "c9GYIZoMIxln",
        "colab_type": "code",
        "colab": {}
      },
      "source": [
        "#Shows that digits is a kind of dictonary where the value of the elements are numpy arrays\n",
        "digits"
      ],
      "execution_count": null,
      "outputs": []
    },
    {
      "cell_type": "code",
      "metadata": {
        "id": "aIXaqNQWJOBv",
        "colab_type": "code",
        "colab": {}
      },
      "source": [
        "print(type(digits['data']))\n",
        "print(type(digits['target']))\n",
        "\n",
        "#Prints description of digits (characteristics)\n",
        "print(digits['DESCR']) "
      ],
      "execution_count": null,
      "outputs": []
    },
    {
      "cell_type": "code",
      "metadata": {
        "id": "b7ufSgwJLniK",
        "colab_type": "code",
        "colab": {}
      },
      "source": [
        "#Printing some images with their labels (Numerical images with corresponding digit values)\n",
        "plt.figure(figsize=(20,6))\n",
        "for element, (image, label) in enumerate(zip(digits.data[30:40], digits.target[30:40])):\n",
        "  plt.subplot(1,10,element+1) #Setting each image as a sub plot of the main figure. Total 10 subplots.\n",
        "  plt.imshow(np.reshape(image, (8,8)), cmap = plt.cm.gray) #Reshaping the image in a graph of 8x8\n",
        "  plt.title('%i' % label) #Setting title of the graph same as the label"
      ],
      "execution_count": null,
      "outputs": []
    },
    {
      "cell_type": "code",
      "metadata": {
        "id": "ED9RYjt5MhZm",
        "colab_type": "code",
        "colab": {}
      },
      "source": [
        "#Using train_test_split to split the data. D = Data and L=Label\n",
        "d_train, d_test, l_train, l_test = train_test_split(digits.data, digits.target, test_size=0.25, random_state=0)"
      ],
      "execution_count": 7,
      "outputs": []
    },
    {
      "cell_type": "code",
      "metadata": {
        "id": "PfAZi9FKN2F6",
        "colab_type": "code",
        "colab": {}
      },
      "source": [
        "#Initialize object for Logistic Regression\n",
        "from sklearn.linear_model import LogisticRegression\n",
        "lr_class = LogisticRegression()"
      ],
      "execution_count": 8,
      "outputs": []
    },
    {
      "cell_type": "code",
      "metadata": {
        "id": "LFtw-zSPOhdg",
        "colab_type": "code",
        "colab": {}
      },
      "source": [
        "#Run the method fit on training data to train the model\n",
        "lr_class.fit(d_train, l_train)"
      ],
      "execution_count": null,
      "outputs": []
    },
    {
      "cell_type": "code",
      "metadata": {
        "id": "xavzC26BOo1a",
        "colab_type": "code",
        "colab": {}
      },
      "source": [
        "#Predictions on the trained model for a single point and multiple points\n",
        "lr_class.predict(d_test[0].reshape(1,-1))\n",
        "lr_class.predict(d_test[0:10])"
      ],
      "execution_count": null,
      "outputs": []
    },
    {
      "cell_type": "code",
      "metadata": {
        "id": "t80zHMepO78f",
        "colab_type": "code",
        "colab": {}
      },
      "source": [
        "#Using Support Vector Machines for predictions. \n",
        "svm_class = svm.SVC(gamma=0.001)\n",
        "svm_class.fit(d_train, l_train)"
      ],
      "execution_count": null,
      "outputs": []
    },
    {
      "cell_type": "code",
      "metadata": {
        "id": "NFrXyeUsPMhr",
        "colab_type": "code",
        "colab": {}
      },
      "source": [
        "svm_class.predict(d_test[0].reshape(1,-1))\n",
        "svm_class.predict(d_test[0:10])"
      ],
      "execution_count": null,
      "outputs": []
    }
  ]
}